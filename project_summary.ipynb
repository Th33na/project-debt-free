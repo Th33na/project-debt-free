{
 "cells": [
  {
   "cell_type": "code",
   "execution_count": null,
   "id": "9818fa92-9627-44c0-b031-2fa15f9514fb",
   "metadata": {},
   "outputs": [],
   "source": [
    "%reload_ext autoreload\n",
    "%autoreload 2\n",
    "import pandas as pd\n",
    "from pathlib import Path\n",
    "import os\n",
    "import hvplot.pandas\n",
    "from sqlalchemy import engine, inspect\n",
    "import numpy as np\n",
    "import questionary\n",
    "from db_utils import *"
   ]
  },
  {
   "cell_type": "code",
   "execution_count": null,
   "id": "0b36f8c7-ff40-4c21-9031-6e720047754d",
   "metadata": {},
   "outputs": [],
   "source": [
    "engine = get_debt_free_db_engine()"
   ]
  },
  {
   "cell_type": "code",
   "execution_count": null,
   "id": "97ca4f7b-51ad-40d7-b3bd-2bbe030b23e7",
   "metadata": {},
   "outputs": [],
   "source": [
    "get_all_table_names(engine)"
   ]
  },
  {
   "cell_type": "code",
   "execution_count": null,
   "id": "42b0e550-cb86-42d8-a56c-438ef9fdee88",
   "metadata": {},
   "outputs": [],
   "source": [
    "cc_transaction_df = get_all_data_from_txn_data(engine)"
   ]
  },
  {
   "cell_type": "code",
   "execution_count": null,
   "id": "ae3f3350-1c70-412e-a499-0196815dcbf3",
   "metadata": {},
   "outputs": [],
   "source": [
    "cc_transaction_df.head()"
   ]
  },
  {
   "cell_type": "code",
   "execution_count": null,
   "id": "5e1d904a-550b-4090-b37d-e55d7cfe51b0",
   "metadata": {},
   "outputs": [],
   "source": [
    "summary_account = cc_transaction_df.drop(columns=['transaction_date','mcc','merchant_id'])\n",
    "summary_account"
   ]
  },
  {
   "cell_type": "code",
   "execution_count": null,
   "id": "6f8da531-d809-458a-a599-4ad968c66314",
   "metadata": {},
   "outputs": [],
   "source": [
    "summary_transaction = summary_account.groupby(['user_id','card'],as_index = False)['amount'].sum()\n",
    "summary_transaction"
   ]
  },
  {
   "cell_type": "code",
   "execution_count": null,
   "id": "3ed78f83-1adc-413d-b631-472fe1a9bcc1",
   "metadata": {},
   "outputs": [],
   "source": []
  },
  {
   "cell_type": "code",
   "execution_count": null,
   "id": "aa6b573f-0754-4658-8139-4612fa6465f2",
   "metadata": {},
   "outputs": [],
   "source": []
  }
 ],
 "metadata": {
  "kernelspec": {
   "display_name": "Python (dev)",
   "language": "python",
   "name": "dev"
  },
  "language_info": {
   "codemirror_mode": {
    "name": "ipython",
    "version": 3
   },
   "file_extension": ".py",
   "mimetype": "text/x-python",
   "name": "python",
   "nbconvert_exporter": "python",
   "pygments_lexer": "ipython3",
   "version": "3.7.13"
  }
 },
 "nbformat": 4,
 "nbformat_minor": 5
}
