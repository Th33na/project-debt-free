{
 "cells": [
  {
   "cell_type": "code",
   "execution_count": 1,
   "id": "2c891de7-f6d6-4981-8f36-0c15bdd88fa4",
   "metadata": {},
   "outputs": [],
   "source": [
    "# Importing the required libraries and dependencies\n",
    "import numpy as np\n",
    "import pandas as pd\n",
    "from pathlib import Path\n",
    "from sqlalchemy import create_engine, inspect, MetaData, Table, Column, Integer, String"
   ]
  },
  {
   "cell_type": "code",
   "execution_count": 2,
   "id": "7426cc81-cfae-4f37-9b73-e90e8160e8ce",
   "metadata": {},
   "outputs": [],
   "source": [
    "database_connection_string = 'sqlite:///debtfreedb.db'\n",
    "\n",
    "engine = create_engine(database_connection_string)"
   ]
  },
  {
   "cell_type": "code",
   "execution_count": 3,
   "id": "e5ffb1f6-53aa-42de-9277-83ed1a1edf9c",
   "metadata": {},
   "outputs": [],
   "source": [
    "meta = MetaData()\n",
    "mcc_type = Table(\n",
    "   'mcc_type', meta, \n",
    "       Column('mcc', String, primary_key = True), \n",
    "       Column('edited_description', String),\n",
    ")\n",
    "meta.create_all(engine)"
   ]
  },
  {
   "cell_type": "code",
   "execution_count": 4,
   "id": "9b66158f-7411-42df-b25d-7ae6a1594dda",
   "metadata": {},
   "outputs": [],
   "source": [
    "meta = MetaData()\n",
    "mcc_type = Table(\n",
    "   'account_holder', meta, \n",
    "       Column('id', Integer, primary_key = True), \n",
    "       Column('credit_limit', Integer),\n",
    ")\n",
    "meta.create_all(engine)"
   ]
  },
  {
   "cell_type": "code",
   "execution_count": 5,
   "id": "ff2f166b-c552-4b09-8ee8-c04e5700ff07",
   "metadata": {},
   "outputs": [],
   "source": [
    "meta = MetaData()\n",
    "mcc_type = Table(\n",
    "   'account', meta, \n",
    "       Column('account_number', Integer, primary_key = True), \n",
    "       Column('user_name', String),\n",
    "        Column('account_holder_id', Integer),\n",
    ")\n",
    "meta.create_all(engine)"
   ]
  },
  {
   "cell_type": "code",
   "execution_count": 6,
   "id": "e070553e-d459-4ca9-935b-64f1fa0ef455",
   "metadata": {},
   "outputs": [],
   "source": [
    "meta = MetaData()\n",
    "mcc_type = Table(\n",
    "   'transaction', meta, \n",
    "       Column('id', Integer, primary_key = True), \n",
    "       Column('transaction_date', String),\n",
    "        Column('account_id', Integer),\n",
    "    Column('amount', Integer),\n",
    "    Column('mcctype_mcc', String),\n",
    "    Column('merchant_id', Integer),\n",
    ")\n",
    "meta.create_all(engine)"
   ]
  },
  {
   "cell_type": "code",
   "execution_count": 7,
   "id": "8f47fce0-4fec-43ab-9a6c-8b45934d6563",
   "metadata": {},
   "outputs": [],
   "source": [
    "meta = MetaData()\n",
    "mcc_type = Table(\n",
    "   'merchant', meta, \n",
    "       Column('id', Integer, primary_key = True), \n",
    "       Column('city', String),\n",
    "        Column('state', Integer),\n",
    "    Column('zip', Integer),\n",
    "    Column('mcctype_mcc', String),\n",
    "    Column('merchant_id', Integer),\n",
    ")\n",
    "meta.create_all(engine)"
   ]
  },
  {
   "cell_type": "code",
   "execution_count": 8,
   "id": "20092fe1-e0f8-4025-891b-c8ba51d10ff1",
   "metadata": {},
   "outputs": [
    {
     "data": {
      "text/plain": [
       "['account', 'account_holder', 'mcc_type', 'merchant', 'transaction']"
      ]
     },
     "execution_count": 8,
     "metadata": {},
     "output_type": "execute_result"
    }
   ],
   "source": [
    "inspector = inspect(engine)\n",
    "inspector.get_table_names()"
   ]
  },
  {
   "cell_type": "code",
   "execution_count": null,
   "id": "11d8abe0-2ed5-499d-bb25-4e5ada0cb1a2",
   "metadata": {},
   "outputs": [],
   "source": []
  },
  {
   "cell_type": "code",
   "execution_count": 9,
   "id": "ff3e446e-b579-4175-8c17-08629d433097",
   "metadata": {},
   "outputs": [
    {
     "data": {
      "text/plain": [
       "[{'name': 'mcc',\n",
       "  'type': VARCHAR(),\n",
       "  'nullable': False,\n",
       "  'default': None,\n",
       "  'autoincrement': 'auto',\n",
       "  'primary_key': 1},\n",
       " {'name': 'edited_description',\n",
       "  'type': VARCHAR(),\n",
       "  'nullable': True,\n",
       "  'default': None,\n",
       "  'autoincrement': 'auto',\n",
       "  'primary_key': 0}]"
      ]
     },
     "execution_count": 9,
     "metadata": {},
     "output_type": "execute_result"
    }
   ],
   "source": [
    "inspector.get_columns(\"mcc_type\")"
   ]
  },
  {
   "cell_type": "code",
   "execution_count": 10,
   "id": "62643320-8349-4f88-815d-0dce15420e68",
   "metadata": {},
   "outputs": [
    {
     "data": {
      "text/html": [
       "<div>\n",
       "<style scoped>\n",
       "    .dataframe tbody tr th:only-of-type {\n",
       "        vertical-align: middle;\n",
       "    }\n",
       "\n",
       "    .dataframe tbody tr th {\n",
       "        vertical-align: top;\n",
       "    }\n",
       "\n",
       "    .dataframe thead th {\n",
       "        text-align: right;\n",
       "    }\n",
       "</style>\n",
       "<table border=\"1\" class=\"dataframe\">\n",
       "  <thead>\n",
       "    <tr style=\"text-align: right;\">\n",
       "      <th></th>\n",
       "      <th>mcc</th>\n",
       "      <th>edited_description</th>\n",
       "      <th>combined_description</th>\n",
       "      <th>usda_description</th>\n",
       "      <th>irs_description</th>\n",
       "      <th>irs_reportable</th>\n",
       "    </tr>\n",
       "  </thead>\n",
       "  <tbody>\n",
       "    <tr>\n",
       "      <th>0</th>\n",
       "      <td>742</td>\n",
       "      <td>Veterinary Services</td>\n",
       "      <td>Veterinary Services</td>\n",
       "      <td>Veterinary Services</td>\n",
       "      <td>Veterinary Services</td>\n",
       "      <td>Yes</td>\n",
       "    </tr>\n",
       "    <tr>\n",
       "      <th>1</th>\n",
       "      <td>763</td>\n",
       "      <td>Agricultural Co-operatives</td>\n",
       "      <td>Agricultural Co-operatives</td>\n",
       "      <td>Agricultural Co-operatives</td>\n",
       "      <td>Agricultural Cooperative</td>\n",
       "      <td>Yes</td>\n",
       "    </tr>\n",
       "    <tr>\n",
       "      <th>2</th>\n",
       "      <td>780</td>\n",
       "      <td>Horticultural Services, Landscaping Services</td>\n",
       "      <td>Horticultural Services, Landscaping Services</td>\n",
       "      <td>Horticultural Services</td>\n",
       "      <td>Landscaping Services</td>\n",
       "      <td>Yes</td>\n",
       "    </tr>\n",
       "    <tr>\n",
       "      <th>3</th>\n",
       "      <td>1520</td>\n",
       "      <td>General Contractors-Residential and Commercial</td>\n",
       "      <td>General Contractors-Residential and Commercial</td>\n",
       "      <td>General Contractors-Residential and Commercial</td>\n",
       "      <td>General Contractors</td>\n",
       "      <td>Yes</td>\n",
       "    </tr>\n",
       "    <tr>\n",
       "      <th>4</th>\n",
       "      <td>1711</td>\n",
       "      <td>Air Conditioning Contractors – Sales and Insta...</td>\n",
       "      <td>Air Conditioning Contractors – Sales and Insta...</td>\n",
       "      <td>Air Conditioning Contractors – Sales and Insta...</td>\n",
       "      <td>Heating, Plumbing, A/C</td>\n",
       "      <td>Yes</td>\n",
       "    </tr>\n",
       "    <tr>\n",
       "      <th>...</th>\n",
       "      <td>...</td>\n",
       "      <td>...</td>\n",
       "      <td>...</td>\n",
       "      <td>...</td>\n",
       "      <td>...</td>\n",
       "      <td>...</td>\n",
       "    </tr>\n",
       "    <tr>\n",
       "      <th>976</th>\n",
       "      <td>9405</td>\n",
       "      <td>Intra – Government Transactions</td>\n",
       "      <td>Intra – Government Transactions</td>\n",
       "      <td>Intra – Government Transactions</td>\n",
       "      <td>U.S. Federal Government Agencies or Departments</td>\n",
       "      <td>No1.6041-3(p)(3)</td>\n",
       "    </tr>\n",
       "    <tr>\n",
       "      <th>977</th>\n",
       "      <td>9700</td>\n",
       "      <td>Automated Referral Service ( For Visa Only)</td>\n",
       "      <td>Automated Referral Service ( For Visa Only)</td>\n",
       "      <td>Automated Referral Service ( For Visa Only)</td>\n",
       "      <td>NaN</td>\n",
       "      <td>NaN</td>\n",
       "    </tr>\n",
       "    <tr>\n",
       "      <th>978</th>\n",
       "      <td>9701</td>\n",
       "      <td>Visa Credential Service ( For Visa Only)</td>\n",
       "      <td>Visa Credential Service ( For Visa Only)</td>\n",
       "      <td>Visa Credential Service ( For Visa Only)</td>\n",
       "      <td>NaN</td>\n",
       "      <td>NaN</td>\n",
       "    </tr>\n",
       "    <tr>\n",
       "      <th>979</th>\n",
       "      <td>9702</td>\n",
       "      <td>GCAS Emergency Services ( For Visa Only)</td>\n",
       "      <td>GCAS Emergency Services ( For Visa Only)</td>\n",
       "      <td>GCAS Emergency Services ( For Visa Only)</td>\n",
       "      <td>NaN</td>\n",
       "      <td>NaN</td>\n",
       "    </tr>\n",
       "    <tr>\n",
       "      <th>980</th>\n",
       "      <td>9950</td>\n",
       "      <td>Intra – Company Purchases ( For Visa Only)</td>\n",
       "      <td>Intra – Company Purchases ( For Visa Only)</td>\n",
       "      <td>Intra – Company Purchases ( For Visa Only)</td>\n",
       "      <td>Intra-Company Purchases</td>\n",
       "      <td>No1.6041-3(c)</td>\n",
       "    </tr>\n",
       "  </tbody>\n",
       "</table>\n",
       "<p>981 rows × 6 columns</p>\n",
       "</div>"
      ],
      "text/plain": [
       "      mcc                                 edited_description  \\\n",
       "0     742                                Veterinary Services   \n",
       "1     763                         Agricultural Co-operatives   \n",
       "2     780       Horticultural Services, Landscaping Services   \n",
       "3    1520     General Contractors-Residential and Commercial   \n",
       "4    1711  Air Conditioning Contractors – Sales and Insta...   \n",
       "..    ...                                                ...   \n",
       "976  9405                    Intra – Government Transactions   \n",
       "977  9700        Automated Referral Service ( For Visa Only)   \n",
       "978  9701           Visa Credential Service ( For Visa Only)   \n",
       "979  9702           GCAS Emergency Services ( For Visa Only)   \n",
       "980  9950         Intra – Company Purchases ( For Visa Only)   \n",
       "\n",
       "                                  combined_description  \\\n",
       "0                                  Veterinary Services   \n",
       "1                           Agricultural Co-operatives   \n",
       "2         Horticultural Services, Landscaping Services   \n",
       "3       General Contractors-Residential and Commercial   \n",
       "4    Air Conditioning Contractors – Sales and Insta...   \n",
       "..                                                 ...   \n",
       "976                    Intra – Government Transactions   \n",
       "977        Automated Referral Service ( For Visa Only)   \n",
       "978           Visa Credential Service ( For Visa Only)   \n",
       "979           GCAS Emergency Services ( For Visa Only)   \n",
       "980         Intra – Company Purchases ( For Visa Only)   \n",
       "\n",
       "                                      usda_description  \\\n",
       "0                                  Veterinary Services   \n",
       "1                           Agricultural Co-operatives   \n",
       "2                               Horticultural Services   \n",
       "3       General Contractors-Residential and Commercial   \n",
       "4    Air Conditioning Contractors – Sales and Insta...   \n",
       "..                                                 ...   \n",
       "976                    Intra – Government Transactions   \n",
       "977        Automated Referral Service ( For Visa Only)   \n",
       "978           Visa Credential Service ( For Visa Only)   \n",
       "979           GCAS Emergency Services ( For Visa Only)   \n",
       "980         Intra – Company Purchases ( For Visa Only)   \n",
       "\n",
       "                                     irs_description    irs_reportable  \n",
       "0                                Veterinary Services               Yes  \n",
       "1                           Agricultural Cooperative               Yes  \n",
       "2                               Landscaping Services               Yes  \n",
       "3                                General Contractors               Yes  \n",
       "4                             Heating, Plumbing, A/C               Yes  \n",
       "..                                               ...               ...  \n",
       "976  U.S. Federal Government Agencies or Departments  No1.6041-3(p)(3)  \n",
       "977                                              NaN               NaN  \n",
       "978                                              NaN               NaN  \n",
       "979                                              NaN               NaN  \n",
       "980                          Intra-Company Purchases     No1.6041-3(c)  \n",
       "\n",
       "[981 rows x 6 columns]"
      ]
     },
     "execution_count": 10,
     "metadata": {},
     "output_type": "execute_result"
    }
   ],
   "source": [
    "csv_path = Path('./resources/mcc_codes.csv')\n",
    "mcc_df = pd.read_csv(csv_path)\n",
    "mcc_df"
   ]
  },
  {
   "cell_type": "code",
   "execution_count": 11,
   "id": "4849c1c3-aa93-4d2c-9df9-87b6faedfc4c",
   "metadata": {},
   "outputs": [
    {
     "data": {
      "text/plain": [
       "['account', 'account_holder', 'mcc_type', 'merchant', 'transaction']"
      ]
     },
     "execution_count": 11,
     "metadata": {},
     "output_type": "execute_result"
    }
   ],
   "source": [
    "inspector = inspect(engine)\n",
    "inspector.get_table_names()"
   ]
  },
  {
   "cell_type": "code",
   "execution_count": 12,
   "id": "08314a2a-5ab5-4f6f-91c6-131befd287e7",
   "metadata": {},
   "outputs": [
    {
     "data": {
      "text/plain": [
       "[{'name': 'mcc',\n",
       "  'type': VARCHAR(),\n",
       "  'nullable': False,\n",
       "  'default': None,\n",
       "  'autoincrement': 'auto',\n",
       "  'primary_key': 1},\n",
       " {'name': 'edited_description',\n",
       "  'type': VARCHAR(),\n",
       "  'nullable': True,\n",
       "  'default': None,\n",
       "  'autoincrement': 'auto',\n",
       "  'primary_key': 0}]"
      ]
     },
     "execution_count": 12,
     "metadata": {},
     "output_type": "execute_result"
    }
   ],
   "source": [
    "inspector.get_columns(\"mcc_type\")"
   ]
  },
  {
   "cell_type": "code",
   "execution_count": 15,
   "id": "846ad982-d34c-4514-a650-7a646f14d657",
   "metadata": {},
   "outputs": [
    {
     "data": {
      "text/html": [
       "<div>\n",
       "<style scoped>\n",
       "    .dataframe tbody tr th:only-of-type {\n",
       "        vertical-align: middle;\n",
       "    }\n",
       "\n",
       "    .dataframe tbody tr th {\n",
       "        vertical-align: top;\n",
       "    }\n",
       "\n",
       "    .dataframe thead th {\n",
       "        text-align: right;\n",
       "    }\n",
       "</style>\n",
       "<table border=\"1\" class=\"dataframe\">\n",
       "  <thead>\n",
       "    <tr style=\"text-align: right;\">\n",
       "      <th></th>\n",
       "      <th>id</th>\n",
       "      <th>credit_limit</th>\n",
       "    </tr>\n",
       "  </thead>\n",
       "  <tbody>\n",
       "  </tbody>\n",
       "</table>\n",
       "</div>"
      ],
      "text/plain": [
       "Empty DataFrame\n",
       "Columns: [id, credit_limit]\n",
       "Index: []"
      ]
     },
     "execution_count": 15,
     "metadata": {},
     "output_type": "execute_result"
    }
   ],
   "source": [
    "pd.read_sql_table('account_holder', con=engine)"
   ]
  },
  {
   "cell_type": "code",
   "execution_count": null,
   "id": "aee574ef-cbc0-4bcb-a88b-22dc217b6806",
   "metadata": {},
   "outputs": [],
   "source": []
  }
 ],
 "metadata": {
  "kernelspec": {
   "display_name": "Python (dev)",
   "language": "python",
   "name": "dev"
  },
  "language_info": {
   "codemirror_mode": {
    "name": "ipython",
    "version": 3
   },
   "file_extension": ".py",
   "mimetype": "text/x-python",
   "name": "python",
   "nbconvert_exporter": "python",
   "pygments_lexer": "ipython3",
   "version": "3.7.13"
  }
 },
 "nbformat": 4,
 "nbformat_minor": 5
}
