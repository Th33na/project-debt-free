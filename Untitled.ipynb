{
 "cells": [
  {
   "cell_type": "code",
   "execution_count": null,
   "id": "98ee27a7-8461-48c6-b84e-6d90e4006141",
   "metadata": {
    "tags": []
   },
   "outputs": [],
   "source": [
    "%reload_ext autoreload\n",
    "%autoreload 2\n",
    "import pandas as pd\n",
    "import sqlalchemy\n",
    "import numpy as np\n",
    "import hvplot.pandas\n",
    "from pathlib import Path\n",
    "import questionary\n",
    "import fire\n",
    "from db_utils import get_debt_free_db_engine,get_transaction_for_user_year"
   ]
  },
  {
   "cell_type": "code",
   "execution_count": null,
   "id": "114ea17b-3f9c-4b5b-a512-69793395f063",
   "metadata": {},
   "outputs": [],
   "source": [
    "engine= get_debt_free_db_engine()"
   ]
  },
  {
   "cell_type": "code",
   "execution_count": null,
   "id": "e2861aa1-a413-4b5a-a46d-949a6d45f9fc",
   "metadata": {},
   "outputs": [],
   "source": [
    "get_transaction_for_user_year(engine, 0, \"2019\")"
   ]
  },
  {
   "cell_type": "code",
   "execution_count": null,
   "id": "94a054a3-6e20-495a-95b5-92131cf5b6e2",
   "metadata": {
    "tags": []
   },
   "outputs": [],
   "source": [
    "ccdata_df = pd.read_csv(\n",
    "    Path(\"resources/cc_transactions_reduced.csv\"))"
   ]
  },
  {
   "cell_type": "code",
   "execution_count": null,
   "id": "76fcf72c-9930-4492-92ed-b408cc266d94",
   "metadata": {},
   "outputs": [],
   "source": [
    "display(ccdata_df.head())\n",
    "display(ccdata_df.tail())"
   ]
  },
  {
   "cell_type": "code",
   "execution_count": null,
   "id": "92453319-67c5-46db-a2ff-ed8ca1b63cf0",
   "metadata": {},
   "outputs": [],
   "source": [
    "database_connection_string = 'sqlite:///'        # ccinfo_reduced or debtfreedb.db ?"
   ]
  },
  {
   "cell_type": "code",
   "execution_count": null,
   "id": "ab4aec4a-226b-4aea-8962-4a25f944420c",
   "metadata": {},
   "outputs": [],
   "source": [
    "engine = sqlalchemy.create_engine(database_connection_string)\n",
    "\n",
    "engine"
   ]
  },
  {
   "cell_type": "code",
   "execution_count": null,
   "id": "de7fa140-26af-4ee4-94b7-cbf46ffb48d0",
   "metadata": {},
   "outputs": [],
   "source": [
    "ccdata_df.to_sql('accounts', engine, index=False, if_exists='replace')\n",
    "sql_ccdata_df = pd.read_sql_table('accounts', con=engine)\n",
    "sql_ccdata_df.head()"
   ]
  },
  {
   "cell_type": "code",
   "execution_count": null,
   "id": "5468201a-b2a9-4e74-ba5b-af48b7571a2a",
   "metadata": {},
   "outputs": [],
   "source": [
    "engine.table_names()   #inspector = inspect(engine)\n",
    "                       #inspector.get_table_names"
   ]
  }
 ],
 "metadata": {
  "kernelspec": {
   "display_name": "Python 3 (ipykernel)",
   "language": "python",
   "name": "python3"
  },
  "language_info": {
   "codemirror_mode": {
    "name": "ipython",
    "version": 3
   },
   "file_extension": ".py",
   "mimetype": "text/x-python",
   "name": "python",
   "nbconvert_exporter": "python",
   "pygments_lexer": "ipython3",
   "version": "3.7.13"
  }
 },
 "nbformat": 4,
 "nbformat_minor": 5
}
