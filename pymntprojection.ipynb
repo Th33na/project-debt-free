{
 "cells": [
  {
   "cell_type": "code",
   "execution_count": null,
   "id": "638d0d94-c2bb-4241-9d8c-8316bb1ff4d4",
   "metadata": {},
   "outputs": [],
   "source": [
    "%reload_ext autoreload\n",
    "%autoreload 2\n",
    "import numpy as np\n",
    "import pandas as pd\n",
    "from pathlib import Path\n",
    "import csv\n",
    "import hvplot.pandas\n",
    "import sqlalchemy as sql\n",
    "import seaborn as sns\n",
    "from matplotlib import pyplot as plt\n",
    "import datetime as dt\n",
    "from sqlalchemy import create_engine, inspect \n",
    "from tkinter import *\n",
    "%matplotlib inline\n",
    "from db_utils import get_debt_free_db_engine, get_transaction_for_user_year, get_account_for_user"
   ]
  },
  {
   "cell_type": "code",
   "execution_count": null,
   "id": "5d589b7d-565e-493c-b34c-6c2d9ab8e24d",
   "metadata": {},
   "outputs": [],
   "source": [
    "# Create an engine to interact with the database\n",
    "engine = get_debt_free_db_engine()"
   ]
  },
  {
   "cell_type": "code",
   "execution_count": null,
   "id": "b5c4605f-0dee-4e37-ae99-b88252a6f04a",
   "metadata": {},
   "outputs": [],
   "source": [
    "transaction_2020 = get_transaction_for_user_year(engine, 1, '2020')"
   ]
  },
  {
   "cell_type": "code",
   "execution_count": null,
   "id": "10d4cc9b-9cc2-4ef6-a9da-38b27155ee48",
   "metadata": {},
   "outputs": [],
   "source": [
    "transaction_2020['year'] = pd.DatetimeIndex(transaction_2020['transaction_date']).year"
   ]
  },
  {
   "cell_type": "code",
   "execution_count": null,
   "id": "89b8f701-ed72-45fb-ad51-53236d410ad6",
   "metadata": {},
   "outputs": [],
   "source": [
    "transaction_2020['month'] = pd.DatetimeIndex(transaction_2020['transaction_date']).month"
   ]
  },
  {
   "cell_type": "code",
   "execution_count": null,
   "id": "4f841581-909b-43ff-a5e5-e56c9e5b868b",
   "metadata": {},
   "outputs": [],
   "source": [
    "transaction_2020.head()"
   ]
  },
  {
   "cell_type": "code",
   "execution_count": null,
   "id": "8c493ed9-bbcd-455c-b097-5b87bc26b6a4",
   "metadata": {},
   "outputs": [],
   "source": [
    "summary_transaction_2020 = pd.DataFrame(round(transaction_2020.groupby(['user_id', 'card','month'], as_index=False)[('amount')].sum(),2))\n",
    "summary_transaction_2020"
   ]
  },
  {
   "cell_type": "code",
   "execution_count": null,
   "id": "49fee556-0e4b-4320-974c-9bb158072497",
   "metadata": {},
   "outputs": [],
   "source": [
    "#method for calculating how long to pay off debt given desired monthly amount\n",
    "def payment_projection(user_id, monthly_amount):\n",
    "    #get the amount on user's balance\n",
    "    total_amount=summary_transaction_2020['amount'].iloc[user_id]\n",
    "    #get number of months\n",
    "    number_of_months=total_amount/monthly_amount\n",
    "    # print(\"Num Months: \" + str(number_of_months))\n",
    "    #get number of years\n",
    "    number_of_years=number_of_months/12\n",
    "    # print(\"Num Years: \" + str(number_of_years))\n",
    "    #return the number of years for output to use in flask\n",
    "    return number_of_years"
   ]
  },
  {
   "cell_type": "code",
   "execution_count": null,
   "id": "ba2bb120-126b-456e-bb8a-cc73aebddbe9",
   "metadata": {},
   "outputs": [],
   "source": [
    "#get the user id and desired monthly amount\n",
    "user_id_input_str = input(\"What is your userid?\") # this line is like quantity = IntegerField(\"How many units of the product was sold that week?\") found in forms.py\n",
    "#cast input as int since it comes in as a string\n",
    "user_id_input = int(user_id_input_str)\n",
    "# try:\n",
    "#     #test if integer\n",
    "#     int(monthly_amt_input = input(\"How much do you want to pay a month? Type a number\"))\n",
    "# #if not integer, prompt again\n",
    "# except: \n",
    "#     monthly_amt_input = input(\"Please type a whole number\")\n",
    "# check monthly amount is valid aka a number\n",
    "monthly_amt_input_str = input(\"How much do you want to pay a month? Type a number.\")\n",
    "#cast as a float\n",
    "monthly_amt_input = float(monthly_amt_input_str)\n",
    "if type(monthly_amt_input) == float:\n",
    "    #call payment plan method\n",
    "    payment_plan_length = payment_projection(user_id_input,monthly_amt_input) \n",
    "    print(f\"Hello, {user_id_input}. Given your desired monthly payment is {monthly_amt_input}, it will take you {payment_plan_length} years to pay off your total of {summary_transaction_2020['amount'].iloc[user_id_input]}\")\n",
    "else:\n",
    "    print(\"Type in number, dummy.\")\n",
    "  "
   ]
  },
  {
   "cell_type": "code",
   "execution_count": null,
   "id": "cb1a3d54-24be-4060-9033-7828d368e362",
   "metadata": {},
   "outputs": [],
   "source": [
    "summary_transaction_2020.dtypes"
   ]
  },
  {
   "cell_type": "code",
   "execution_count": null,
   "id": "7aab93a7-f334-45b8-a57a-d7f322ebc677",
   "metadata": {},
   "outputs": [],
   "source": []
  }
 ],
 "metadata": {
  "kernelspec": {
   "display_name": "Python 3 (ipykernel)",
   "language": "python",
   "name": "python3"
  },
  "language_info": {
   "codemirror_mode": {
    "name": "ipython",
    "version": 3
   },
   "file_extension": ".py",
   "mimetype": "text/x-python",
   "name": "python",
   "nbconvert_exporter": "python",
   "pygments_lexer": "ipython3",
   "version": "3.7.13"
  }
 },
 "nbformat": 4,
 "nbformat_minor": 5
}
