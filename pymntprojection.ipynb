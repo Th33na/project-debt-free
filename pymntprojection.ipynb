{
 "cells": [
  {
   "cell_type": "code",
   "execution_count": 3,
   "id": "638d0d94-c2bb-4241-9d8c-8316bb1ff4d4",
   "metadata": {},
   "outputs": [],
   "source": [
    "%reload_ext autoreload\n",
    "%autoreload 2\n",
    "import numpy as np\n",
    "import pandas as pd\n",
    "from pathlib import Path\n",
    "import csv\n",
    "import hvplot.pandas\n",
    "import sqlalchemy as sql\n",
    "import seaborn as sns\n",
    "from matplotlib import pyplot as plt\n",
    "import datetime as dt\n",
    "from sqlalchemy import create_engine, inspect \n",
    "from tkinter import *\n",
    "%matplotlib inline\n",
    "from db_utils import get_debt_free_db_engine, get_transaction_for_user_year, get_account_for_user\n",
    "from payment_projection import payment_projection"
   ]
  },
  {
   "cell_type": "code",
   "execution_count": 4,
   "id": "99c5bcac-e6fd-44a9-82b9-1abb2b7e5296",
   "metadata": {},
   "outputs": [
    {
     "name": "stdout",
     "output_type": "stream",
     "text": [
      "47106.490000000005\n"
     ]
    },
    {
     "data": {
      "text/plain": [
       "7.851081666666668"
      ]
     },
     "execution_count": 4,
     "metadata": {},
     "output_type": "execute_result"
    }
   ],
   "source": [
    "payment_projection(1, 500)"
   ]
  },
  {
   "cell_type": "code",
   "execution_count": null,
   "id": "5d589b7d-565e-493c-b34c-6c2d9ab8e24d",
   "metadata": {},
   "outputs": [],
   "source": [
    "# Create an engine to interact with the database\n",
    "engine = get_debt_free_db_engine()"
   ]
  },
  {
   "cell_type": "code",
   "execution_count": null,
   "id": "b5c4605f-0dee-4e37-ae99-b88252a6f04a",
   "metadata": {},
   "outputs": [],
   "source": [
    "transaction_2020 = get_transaction_for_user_year(engine, 1, '2020')"
   ]
  },
  {
   "cell_type": "code",
   "execution_count": null,
   "id": "10d4cc9b-9cc2-4ef6-a9da-38b27155ee48",
   "metadata": {},
   "outputs": [],
   "source": [
    "transaction_2020['year'] = pd.DatetimeIndex(transaction_2020['transaction_date']).year"
   ]
  },
  {
   "cell_type": "code",
   "execution_count": null,
   "id": "89b8f701-ed72-45fb-ad51-53236d410ad6",
   "metadata": {},
   "outputs": [],
   "source": [
    "transaction_2020['month'] = pd.DatetimeIndex(transaction_2020['transaction_date']).month"
   ]
  },
  {
   "cell_type": "code",
   "execution_count": null,
   "id": "4f841581-909b-43ff-a5e5-e56c9e5b868b",
   "metadata": {},
   "outputs": [],
   "source": [
    "transaction_2020.head()"
   ]
  },
  {
   "cell_type": "code",
   "execution_count": null,
   "id": "8c493ed9-bbcd-455c-b097-5b87bc26b6a4",
   "metadata": {},
   "outputs": [],
   "source": [
    "summary_transaction_2020 = pd.DataFrame(round(transaction_2020.groupby(['user_id', 'card','month'], as_index=False)[('amount')].sum(),2))\n",
    "summary_transaction_2020"
   ]
  },
  {
   "cell_type": "code",
   "execution_count": null,
   "id": "49fee556-0e4b-4320-974c-9bb158072497",
   "metadata": {},
   "outputs": [],
   "source": [
    "#method for calculating how long to pay off debt given desired monthly amount\n",
    "def payment_projection(user_id, monthly_amount):\n",
    "    #get the amount on user's balance\n",
    "    total_amount=summary_transaction_2020['amount'].iloc[user_id]\n",
    "    #get number of months\n",
    "    number_of_months=total_amount/monthly_amount\n",
    "    # print(\"Num Months: \" + str(number_of_months))\n",
    "    #get number of years\n",
    "    number_of_years=number_of_months/12\n",
    "    # print(\"Num Years: \" + str(number_of_years))\n",
    "    #return the number of years for output to use in flask\n",
    "    return number_of_years"
   ]
  },
  {
   "cell_type": "code",
   "execution_count": null,
   "id": "b07d6cd1-d75e-40d7-8fed-fad0d73892c1",
   "metadata": {},
   "outputs": [],
   "source": []
  },
  {
   "cell_type": "code",
   "execution_count": null,
   "id": "cb1a3d54-24be-4060-9033-7828d368e362",
   "metadata": {},
   "outputs": [],
   "source": [
    "summary_transaction_2020.dtypes"
   ]
  },
  {
   "cell_type": "code",
   "execution_count": null,
   "id": "7aab93a7-f334-45b8-a57a-d7f322ebc677",
   "metadata": {},
   "outputs": [],
   "source": []
  }
 ],
 "metadata": {
  "kernelspec": {
   "display_name": "Python 3 (ipykernel)",
   "language": "python",
   "name": "python3"
  },
  "language_info": {
   "codemirror_mode": {
    "name": "ipython",
    "version": 3
   },
   "file_extension": ".py",
   "mimetype": "text/x-python",
   "name": "python",
   "nbconvert_exporter": "python",
   "pygments_lexer": "ipython3",
   "version": "3.7.13"
  }
 },
 "nbformat": 4,
 "nbformat_minor": 5
}
