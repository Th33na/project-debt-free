{
 "cells": [
  {
   "cell_type": "code",
   "execution_count": null,
   "id": "c120969b-bcdb-42d6-ae87-0dc0bc1fe35a",
   "metadata": {},
   "outputs": [],
   "source": [
    "%reload_ext autoreload\n",
    "%autoreload 2\n",
    "import numpy as np\n",
    "import pandas as pd\n",
    "from pathlib import Path\n",
    "import csv\n",
    "import hvplot.pandas\n",
    "import sqlalchemy as sql\n",
    "import seaborn as sns\n",
    "from matplotlib import pyplot as plt\n",
    "import datetime as dt\n",
    "from sqlalchemy import create_engine, inspect \n",
    "from tkinter import *\n",
    "%matplotlib inline\n",
    "from db_utils import get_debt_free_db_engine, get_transaction_for_user_year, get_account_for_user"
   ]
  },
  {
   "cell_type": "code",
   "execution_count": null,
   "id": "320e7be1-285d-4075-a956-0379797b4ac4",
   "metadata": {},
   "outputs": [],
   "source": [
    "# Create an engine to interact with the database\n",
    "engine = get_debt_free_db_engine()"
   ]
  },
  {
   "cell_type": "code",
   "execution_count": null,
   "id": "965793f9-5be2-43ae-8998-a1fb047ea596",
   "metadata": {},
   "outputs": [],
   "source": [
    "transaction_2020 = get_transaction_for_user_year(engine, 1, '2020')"
   ]
  },
  {
   "cell_type": "code",
   "execution_count": null,
   "id": "93e4e801-4808-4fa6-be87-7cdf9a500a08",
   "metadata": {},
   "outputs": [],
   "source": [
    "transaction_2020['year'] = pd.DatetimeIndex(transaction_2020['transaction_date']).year"
   ]
  },
  {
   "cell_type": "code",
   "execution_count": null,
   "id": "e09a626b-f8e7-482d-ad33-bc54d9340586",
   "metadata": {},
   "outputs": [],
   "source": [
    "transaction_2020['month'] = pd.DatetimeIndex(transaction_2020['transaction_date']).month"
   ]
  },
  {
   "cell_type": "code",
   "execution_count": null,
   "id": "d1c189b2-41bb-4223-b367-84c8ea51fde7",
   "metadata": {},
   "outputs": [],
   "source": [
    "transaction_2020.head()"
   ]
  },
  {
   "cell_type": "code",
   "execution_count": null,
   "id": "5714a5ad-1f99-4ef0-a9e7-418dec841dc3",
   "metadata": {},
   "outputs": [],
   "source": [
    "summary_transaction_2020 = pd.DataFrame(round(transaction_2020.groupby(['user_id', 'card','month'], as_index=False)[('amount')].sum(),2))\n",
    "summary_transaction_2020"
   ]
  },
  {
   "cell_type": "code",
   "execution_count": null,
   "id": "c69c8179-9d88-4f10-82af-3b372d6b732a",
   "metadata": {},
   "outputs": [],
   "source": [
    "account_data = get_account_for_user(engine,1)"
   ]
  },
  {
   "cell_type": "code",
   "execution_count": null,
   "id": "e24e6c08-72b2-4864-a61b-c7e5fb4a9b63",
   "metadata": {},
   "outputs": [],
   "source": [
    "account_data"
   ]
  },
  {
   "cell_type": "code",
   "execution_count": null,
   "id": "98882c48-33ce-4496-b902-613506edaa5b",
   "metadata": {},
   "outputs": [],
   "source": [
    "card= account_data.loc[account_data['card'] == 1]\n",
    "annual_percent_rate= float(card['annual_percentage_rate'])\n",
    "annual_percent_rate"
   ]
  },
  {
   "cell_type": "code",
   "execution_count": null,
   "id": "6f4d3982-d1b9-4f7d-b505-6fe09d957efa",
   "metadata": {},
   "outputs": [],
   "source": [
    "## Function to calculate new balance for current billing period\n",
    "def calc_new_balance(row):\n",
    "    result = {}\n",
    "    \"\"\" row: table row containing 'user_id','card','month','amount' columns\n",
    "        annual_percent_rate: interest calculated\n",
    "    \"\"\"\n",
    "   \n",
    "    # calculate monthly percent rate\n",
    "    monthly_percent_rate = float((annual_percent_rate/100) / 12)\n",
    "        \n",
    "    # assign remaining balance\n",
    "    monthly_remaining_balance = row['amount']\n",
    "    \n",
    "    # calculate minimum payment\n",
    "    minimum_payment = (monthly_remaining_balance) * 0.02\n",
    "    row['minimum_payment'] = round(minimum_payment,2)\n",
    "    \n",
    "    # deduct payment made i.e. min payment\n",
    "    adjusted_balance = monthly_remaining_balance - minimum_payment\n",
    "    \n",
    "    # calculate interest\n",
    "    interest_charged = adjusted_balance * monthly_percent_rate\n",
    "    row['interest_charged'] = round(interest_charged,2)\n",
    "    \n",
    "    # calculate new balance\n",
    "    new_balance = adjusted_balance + interest_charged\n",
    "    row['new_balance'] = round(new_balance,2)\n",
    "\n",
    "    return row"
   ]
  },
  {
   "cell_type": "code",
   "execution_count": null,
   "id": "8e774586-9491-4904-8502-959ed19b9092",
   "metadata": {},
   "outputs": [],
   "source": [
    "## Apply function to each row of dataframe\n",
    "summary_transaction_2020 = summary_transaction_2020.apply(lambda row: calc_new_balance(row), axis =1)\n",
    "summary_transaction_2020"
   ]
  }
 ],
 "metadata": {
  "kernelspec": {
   "display_name": "Python 3 (ipykernel)",
   "language": "python",
   "name": "python3"
  },
  "language_info": {
   "codemirror_mode": {
    "name": "ipython",
    "version": 3
   },
   "file_extension": ".py",
   "mimetype": "text/x-python",
   "name": "python",
   "nbconvert_exporter": "python",
   "pygments_lexer": "ipython3",
   "version": "3.9.12"
  }
 },
 "nbformat": 4,
 "nbformat_minor": 5
}
