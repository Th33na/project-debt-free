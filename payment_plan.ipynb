{
 "cells": [
  {
   "cell_type": "code",
   "execution_count": 1,
   "id": "e9d48eb7-56da-4954-8d63-14ce9736441e",
   "metadata": {},
   "outputs": [],
   "source": [
    "# Run the payment plan based off summary_transaction_2020 from step 7, after creation. Change selection to 2019 in Nayana's code."
   ]
  },
  {
   "cell_type": "code",
   "execution_count": 21,
   "id": "5f1f6cb5-d9b8-4283-bc84-aee57773d976",
   "metadata": {},
   "outputs": [],
   "source": [
    "import fire\n",
    "import questionary\n",
    "import pandas as pd\n",
    "from db_utils import get_debt_free_db_engine, get_transaction_for_user_year, get_account_for_user"
   ]
  },
  {
   "cell_type": "code",
   "execution_count": 22,
   "id": "24dd1620-b2c4-40da-a3aa-28247e90643c",
   "metadata": {},
   "outputs": [],
   "source": [
    "engine = get_debt_free_db_engine()\n",
    "transaction_2019 = get_transaction_for_user_year(engine, 1, '2019')\n",
    "transaction_2019['year'] = pd.DatetimeIndex(transaction_2019['transaction_date']).year\n",
    "transaction_2019['month'] = pd.DatetimeIndex(transaction_2019['transaction_date']).month\n",
    "summary_transaction_2019 = pd.DataFrame(round(transaction_2019.groupby(['user_id', 'card','month'], as_index=False)[('amount')].sum(),2))"
   ]
  },
  {
   "cell_type": "code",
   "execution_count": 23,
   "id": "0d72002d-1514-4d7f-9607-7ca8aa2cce75",
   "metadata": {},
   "outputs": [],
   "source": [
    "sumofdebt = summary_transaction_2019[\"amount\"].sum()\n",
    "user = summary_transaction_2019[\"user\"].mean()"
   ]
  },
  {
   "cell_type": "code",
   "execution_count": 25,
   "id": "ddc3eb99-da52-4527-bb24-4bb4d6e71a48",
   "metadata": {},
   "outputs": [
    {
     "name": "stdout",
     "output_type": "stream",
     "text": [
      "Thank you, 39, for choosing to consolidate your debt with our payment plan.\n",
      "Your current total debt is $15000.\n",
      "We currently have an APR on our payment plan of 5%.\n",
      "This will offer you easy to pay monthly payments.\n",
      "We have 4 options for our payment plan, please choose one of our plans listed below.\n"
     ]
    }
   ],
   "source": [
    "print(f\"Thank you, {user}, for choosing to consolidate your debt with our payment plan.\")\n",
    "print(f\"Your current total debt is ${sumofdebt}.\")\n",
    "print(\"We currently have an APR on our payment plan of 5%.\")\n",
    "print(\"This will offer you easy to pay monthly payments.\")\n",
    "print(\"We have 4 options for our payment plan, please choose one of our plans listed below.\")\n",
    "print(\"Or Quit to return to our main menu.\")"
   ]
  },
  {
   "cell_type": "code",
   "execution_count": 26,
   "id": "a8eaee93-0b23-45ca-ad58-86854959937a",
   "metadata": {},
   "outputs": [
    {
     "name": "stderr",
     "output_type": "stream",
     "text": [
      "C:\\Users\\sempi\\anaconda3\\envs\\dev\\envs\\dev\\lib\\site-packages\\prompt_toolkit\\key_binding\\key_bindings.py:414: RuntimeWarning: coroutine 'Application.run_async' was never awaited\n",
      "  return Keys(key)\n",
      "RuntimeWarning: Enable tracemalloc to get the object allocation traceback\n"
     ]
    },
    {
     "ename": "RuntimeError",
     "evalue": "This event loop is already running",
     "output_type": "error",
     "traceback": [
      "\u001b[1;31m---------------------------------------------------------------------------\u001b[0m",
      "\u001b[1;31mRuntimeError\u001b[0m                              Traceback (most recent call last)",
      "Input \u001b[1;32mIn [26]\u001b[0m, in \u001b[0;36m<cell line: 3>\u001b[1;34m()\u001b[0m\n\u001b[0;32m      1\u001b[0m cli_running \u001b[38;5;241m=\u001b[39m \u001b[38;5;28;01mTrue\u001b[39;00m\n\u001b[0;32m      3\u001b[0m \u001b[38;5;28;01mwhile\u001b[39;00m cli_running:\n\u001b[1;32m----> 4\u001b[0m     choice \u001b[38;5;241m=\u001b[39m \u001b[43mquestionary\u001b[49m\u001b[38;5;241;43m.\u001b[39;49m\u001b[43mselect\u001b[49m\u001b[43m(\u001b[49m\n\u001b[0;32m      5\u001b[0m \u001b[43m        \u001b[49m\u001b[38;5;124;43m\"\u001b[39;49m\u001b[38;5;124;43mWhich option works best for you?\u001b[39;49m\u001b[38;5;124;43m\"\u001b[39;49m\u001b[43m,\u001b[49m\n\u001b[0;32m      6\u001b[0m \u001b[43m        \u001b[49m\u001b[43mchoices\u001b[49m\u001b[38;5;241;43m=\u001b[39;49m\u001b[43m[\u001b[49m\u001b[38;5;124;43m\"\u001b[39;49m\u001b[38;5;124;43m6 Months\u001b[39;49m\u001b[38;5;124;43m\"\u001b[39;49m\u001b[43m,\u001b[49m\u001b[43m \u001b[49m\u001b[38;5;124;43m\"\u001b[39;49m\u001b[38;5;124;43m1 Year\u001b[39;49m\u001b[38;5;124;43m\"\u001b[39;49m\u001b[43m,\u001b[49m\u001b[43m \u001b[49m\u001b[38;5;124;43m\"\u001b[39;49m\u001b[38;5;124;43m3 Year\u001b[39;49m\u001b[38;5;124;43m\"\u001b[39;49m\u001b[43m,\u001b[49m\u001b[43m \u001b[49m\u001b[38;5;124;43m\"\u001b[39;49m\u001b[38;5;124;43m5 Year\u001b[39;49m\u001b[38;5;124;43m\"\u001b[39;49m\u001b[43m,\u001b[49m\u001b[43m \u001b[49m\u001b[38;5;124;43m\"\u001b[39;49m\u001b[38;5;124;43mQuit\u001b[39;49m\u001b[38;5;124;43m\"\u001b[39;49m\u001b[43m]\u001b[49m\n\u001b[0;32m      7\u001b[0m \u001b[43m        \u001b[49m\u001b[43m)\u001b[49m\u001b[38;5;241;43m.\u001b[39;49m\u001b[43mask\u001b[49m\u001b[43m(\u001b[49m\u001b[43m)\u001b[49m\n\u001b[0;32m      9\u001b[0m     \u001b[38;5;28;01mif\u001b[39;00m choice \u001b[38;5;241m==\u001b[39m \u001b[38;5;124m\"\u001b[39m\u001b[38;5;124m6 Months\u001b[39m\u001b[38;5;124m\"\u001b[39m:\n\u001b[0;32m     10\u001b[0m         payment_time \u001b[38;5;241m=\u001b[39m \u001b[38;5;241m6\u001b[39m\n",
      "File \u001b[1;32m~\\anaconda3\\envs\\dev\\envs\\dev\\lib\\site-packages\\questionary\\question.py:70\u001b[0m, in \u001b[0;36mQuestion.ask\u001b[1;34m(self, patch_stdout, kbi_msg)\u001b[0m\n\u001b[0;32m     67\u001b[0m     \u001b[38;5;28;01mreturn\u001b[39;00m \u001b[38;5;28mself\u001b[39m\u001b[38;5;241m.\u001b[39mdefault\n\u001b[0;32m     69\u001b[0m \u001b[38;5;28;01mtry\u001b[39;00m:\n\u001b[1;32m---> 70\u001b[0m     \u001b[38;5;28;01mreturn\u001b[39;00m \u001b[38;5;28;43mself\u001b[39;49m\u001b[38;5;241;43m.\u001b[39;49m\u001b[43munsafe_ask\u001b[49m\u001b[43m(\u001b[49m\u001b[43mpatch_stdout\u001b[49m\u001b[43m)\u001b[49m\n\u001b[0;32m     71\u001b[0m \u001b[38;5;28;01mexcept\u001b[39;00m \u001b[38;5;167;01mKeyboardInterrupt\u001b[39;00m:\n\u001b[0;32m     72\u001b[0m     \u001b[38;5;28mprint\u001b[39m(\u001b[38;5;124m\"\u001b[39m\u001b[38;5;130;01m\\n\u001b[39;00m\u001b[38;5;132;01m{}\u001b[39;00m\u001b[38;5;130;01m\\n\u001b[39;00m\u001b[38;5;124m\"\u001b[39m\u001b[38;5;241m.\u001b[39mformat(kbi_msg))\n",
      "File \u001b[1;32m~\\anaconda3\\envs\\dev\\envs\\dev\\lib\\site-packages\\questionary\\question.py:92\u001b[0m, in \u001b[0;36mQuestion.unsafe_ask\u001b[1;34m(self, patch_stdout)\u001b[0m\n\u001b[0;32m     90\u001b[0m         \u001b[38;5;28;01mreturn\u001b[39;00m \u001b[38;5;28mself\u001b[39m\u001b[38;5;241m.\u001b[39mapplication\u001b[38;5;241m.\u001b[39mrun()\n\u001b[0;32m     91\u001b[0m \u001b[38;5;28;01melse\u001b[39;00m:\n\u001b[1;32m---> 92\u001b[0m     \u001b[38;5;28;01mreturn\u001b[39;00m \u001b[38;5;28;43mself\u001b[39;49m\u001b[38;5;241;43m.\u001b[39;49m\u001b[43mapplication\u001b[49m\u001b[38;5;241;43m.\u001b[39;49m\u001b[43mrun\u001b[49m\u001b[43m(\u001b[49m\u001b[43m)\u001b[49m\n",
      "File \u001b[1;32m~\\anaconda3\\envs\\dev\\envs\\dev\\lib\\site-packages\\prompt_toolkit\\application\\application.py:891\u001b[0m, in \u001b[0;36mApplication.run\u001b[1;34m(self, pre_run, set_exception_handler, in_thread)\u001b[0m\n\u001b[0;32m    888\u001b[0m     loop \u001b[38;5;241m=\u001b[39m new_event_loop()\n\u001b[0;32m    889\u001b[0m     set_event_loop(loop)\n\u001b[1;32m--> 891\u001b[0m \u001b[38;5;28;01mreturn\u001b[39;00m \u001b[43mloop\u001b[49m\u001b[38;5;241;43m.\u001b[39;49m\u001b[43mrun_until_complete\u001b[49m\u001b[43m(\u001b[49m\n\u001b[0;32m    892\u001b[0m \u001b[43m    \u001b[49m\u001b[38;5;28;43mself\u001b[39;49m\u001b[38;5;241;43m.\u001b[39;49m\u001b[43mrun_async\u001b[49m\u001b[43m(\u001b[49m\u001b[43mpre_run\u001b[49m\u001b[38;5;241;43m=\u001b[39;49m\u001b[43mpre_run\u001b[49m\u001b[43m,\u001b[49m\u001b[43m \u001b[49m\u001b[43mset_exception_handler\u001b[49m\u001b[38;5;241;43m=\u001b[39;49m\u001b[43mset_exception_handler\u001b[49m\u001b[43m)\u001b[49m\n\u001b[0;32m    893\u001b[0m \u001b[43m\u001b[49m\u001b[43m)\u001b[49m\n",
      "File \u001b[1;32m~\\anaconda3\\envs\\dev\\envs\\dev\\lib\\asyncio\\base_events.py:623\u001b[0m, in \u001b[0;36mBaseEventLoop.run_until_complete\u001b[1;34m(self, future)\u001b[0m\n\u001b[0;32m    612\u001b[0m \u001b[38;5;124;03m\"\"\"Run until the Future is done.\u001b[39;00m\n\u001b[0;32m    613\u001b[0m \n\u001b[0;32m    614\u001b[0m \u001b[38;5;124;03mIf the argument is a coroutine, it is wrapped in a Task.\u001b[39;00m\n\u001b[1;32m   (...)\u001b[0m\n\u001b[0;32m    620\u001b[0m \u001b[38;5;124;03mReturn the Future's result, or raise its exception.\u001b[39;00m\n\u001b[0;32m    621\u001b[0m \u001b[38;5;124;03m\"\"\"\u001b[39;00m\n\u001b[0;32m    622\u001b[0m \u001b[38;5;28mself\u001b[39m\u001b[38;5;241m.\u001b[39m_check_closed()\n\u001b[1;32m--> 623\u001b[0m \u001b[38;5;28;43mself\u001b[39;49m\u001b[38;5;241;43m.\u001b[39;49m\u001b[43m_check_running\u001b[49m\u001b[43m(\u001b[49m\u001b[43m)\u001b[49m\n\u001b[0;32m    625\u001b[0m new_task \u001b[38;5;241m=\u001b[39m \u001b[38;5;129;01mnot\u001b[39;00m futures\u001b[38;5;241m.\u001b[39misfuture(future)\n\u001b[0;32m    626\u001b[0m future \u001b[38;5;241m=\u001b[39m tasks\u001b[38;5;241m.\u001b[39mensure_future(future, loop\u001b[38;5;241m=\u001b[39m\u001b[38;5;28mself\u001b[39m)\n",
      "File \u001b[1;32m~\\anaconda3\\envs\\dev\\envs\\dev\\lib\\asyncio\\base_events.py:583\u001b[0m, in \u001b[0;36mBaseEventLoop._check_running\u001b[1;34m(self)\u001b[0m\n\u001b[0;32m    581\u001b[0m \u001b[38;5;28;01mdef\u001b[39;00m \u001b[38;5;21m_check_running\u001b[39m(\u001b[38;5;28mself\u001b[39m):\n\u001b[0;32m    582\u001b[0m     \u001b[38;5;28;01mif\u001b[39;00m \u001b[38;5;28mself\u001b[39m\u001b[38;5;241m.\u001b[39mis_running():\n\u001b[1;32m--> 583\u001b[0m         \u001b[38;5;28;01mraise\u001b[39;00m \u001b[38;5;167;01mRuntimeError\u001b[39;00m(\u001b[38;5;124m'\u001b[39m\u001b[38;5;124mThis event loop is already running\u001b[39m\u001b[38;5;124m'\u001b[39m)\n\u001b[0;32m    584\u001b[0m     \u001b[38;5;28;01mif\u001b[39;00m events\u001b[38;5;241m.\u001b[39m_get_running_loop() \u001b[38;5;129;01mis\u001b[39;00m \u001b[38;5;129;01mnot\u001b[39;00m \u001b[38;5;28;01mNone\u001b[39;00m:\n\u001b[0;32m    585\u001b[0m         \u001b[38;5;28;01mraise\u001b[39;00m \u001b[38;5;167;01mRuntimeError\u001b[39;00m(\n\u001b[0;32m    586\u001b[0m             \u001b[38;5;124m'\u001b[39m\u001b[38;5;124mCannot run the event loop while another loop is running\u001b[39m\u001b[38;5;124m'\u001b[39m)\n",
      "\u001b[1;31mRuntimeError\u001b[0m: This event loop is already running"
     ]
    }
   ],
   "source": [
    "cli_running = True\n",
    "\n",
    "# A loop for the running of the payment plan, if they wish to view more than 1 option.\n",
    "while cli_running:\n",
    "    choice = questionary.select(\"Which option works best for you?\",\n",
    "        choices=[\"6 Months\", \"1 Year\", \"3 Year\", \"5 Year\", \"Quit\"]).ask()\n",
    "\n",
    "    if choice == \"6 Months\":\n",
    "        payment_time = 6\n",
    "        payment_amount = payment_plan_option(sumofdebt, payment_time)\n",
    "            \n",
    "        print(f\"Your payment amount would be ${payment_amount} over {payment_time} months.\")\n",
    "        cli_running = payment_works()\n",
    "                \n",
    "    elif choice == \"1 Year\":\n",
    "        payment_time = 12\n",
    "        payment_amount = payment_plan_option(sumofdebt, payment_time)\n",
    "            \n",
    "        print(f\"Your payment amount would be ${payment_amount} over {payment_time} months.\")\n",
    "        cli_running = payment_works()\n",
    "            \n",
    "    elif choice == \"3 Year\":\n",
    "        payment_time = 36\n",
    "        payment_amount = payment_plan_option(sumofdebt, payment_time)\n",
    "            \n",
    "        print(f\"Your payment amount would be ${payment_amount} over {payment_time} months.\")\n",
    "        cli_running = payment_works()\n",
    "            \n",
    "    elif choice == \"5 Year\":\n",
    "        payment_time = 60\n",
    "        payment_amount = payment_plan_option(sumofdebt, payment_time)\n",
    "            \n",
    "        print(f\"Your payment amount would be ${payment_amount} over {payment_time} months.\")\n",
    "        cli_running = payment_works()\n",
    "        \n",
    "    elif choice == \"Quit\":\n",
    "        cli_running = False\n",
    "        print(\"You will be returned to the main menu.\")"
   ]
  },
  {
   "cell_type": "code",
   "execution_count": 17,
   "id": "baea408c-48a6-421b-9901-82a15e00c6c7",
   "metadata": {},
   "outputs": [],
   "source": [
    "def payment_plan_option(total, time):\n",
    "    # Reads in the total and the time and applies the APR to calculate the amount they will need to pay to be debt free by chosen time.\n",
    "    APR = 0.05 / 12\n",
    "    \n",
    "    payment = total * ((APR*(pow((1+APR), time)))/(pow((1 + APR), time) - 1))\n",
    "\n",
    "    return payment"
   ]
  },
  {
   "cell_type": "code",
   "execution_count": 20,
   "id": "2c45b09e-a3b0-4f64-a03f-65bf999fdee0",
   "metadata": {},
   "outputs": [],
   "source": [
    "def payment_works():\n",
    "    # Checks if the customer is happy with their plan.\n",
    "    \n",
    "    yes_no = questionary.select(\"Will this payment plan work for you?\", choices=[\"Yes\", \"No\"]).ask()\n",
    "            \n",
    "    if yes_no == \"Yes\":\n",
    "        cli_running = False\n",
    "        print(\"We thank you for choosing our consolidated payment plan.\")\n",
    "        print(\"We appreciate you as a customer.\")\n",
    "              \n",
    "    elif yes_no == \"No\":\n",
    "        print(\"We are sorry this plan doesn't work.\")\n",
    "        print(\"Please choose a different plan or choose to quit.\")\n",
    "        print(\"Or, if you'd like to set your own payment,\")\n",
    "        print(\"   please use our projection plan from our main menu.\")\n",
    "        cli_running = True\n",
    "    \n",
    "    return cli_running"
   ]
  },
  {
   "cell_type": "code",
   "execution_count": null,
   "id": "acf0e956-1fc6-4721-9dfe-856edb00a2c3",
   "metadata": {},
   "outputs": [],
   "source": []
  }
 ],
 "metadata": {
  "kernelspec": {
   "display_name": "dev",
   "language": "python",
   "name": "dev"
  },
  "language_info": {
   "codemirror_mode": {
    "name": "ipython",
    "version": 3
   },
   "file_extension": ".py",
   "mimetype": "text/x-python",
   "name": "python",
   "nbconvert_exporter": "python",
   "pygments_lexer": "ipython3",
   "version": "3.9.12"
  }
 },
 "nbformat": 4,
 "nbformat_minor": 5
}
