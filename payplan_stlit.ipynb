{
 "cells": [
  {
   "cell_type": "code",
   "execution_count": 1,
   "id": "a490e04b-b980-4c89-ab52-7774e1828d37",
   "metadata": {},
   "outputs": [
    {
     "ename": "ModuleNotFoundError",
     "evalue": "No module named 'db_utils'",
     "output_type": "error",
     "traceback": [
      "\u001b[1;31m---------------------------------------------------------------------------\u001b[0m",
      "\u001b[1;31mModuleNotFoundError\u001b[0m                       Traceback (most recent call last)",
      "Input \u001b[1;32mIn [1]\u001b[0m, in \u001b[0;36m<cell line: 3>\u001b[1;34m()\u001b[0m\n\u001b[0;32m      1\u001b[0m \u001b[38;5;28;01mimport\u001b[39;00m \u001b[38;5;21;01mpandas\u001b[39;00m \u001b[38;5;28;01mas\u001b[39;00m \u001b[38;5;21;01mpd\u001b[39;00m\n\u001b[0;32m      2\u001b[0m \u001b[38;5;28;01mimport\u001b[39;00m \u001b[38;5;21;01mstreamlit\u001b[39;00m \u001b[38;5;28;01mas\u001b[39;00m \u001b[38;5;21;01mst\u001b[39;00m\n\u001b[1;32m----> 3\u001b[0m \u001b[38;5;28;01mfrom\u001b[39;00m \u001b[38;5;21;01mdb_utils\u001b[39;00m \u001b[38;5;28;01mimport\u001b[39;00m get_debt_free_db_engine, get_transaction_for_user_year, get_account_for_user\n",
      "\u001b[1;31mModuleNotFoundError\u001b[0m: No module named 'db_utils'"
     ]
    }
   ],
   "source": [
    "import pandas as pd\n",
    "import streamlit as st\n",
    "from db_utils import get_debt_free_db_engine, get_transaction_for_user_year"
   ]
  },
  {
   "cell_type": "code",
   "execution_count": null,
   "id": "cb876eef-fc14-4ced-b161-8f8e9dde3c7b",
   "metadata": {},
   "outputs": [],
   "source": []
  },
  {
   "cell_type": "code",
   "execution_count": null,
   "id": "ebfa27cd-a6c4-46c9-9a9b-781062ae19d9",
   "metadata": {},
   "outputs": [],
   "source": [
    "sumofdebt = summary_transaction_2019[\"amount\"].sum()\n",
    "user = summary_transaction_2019[\"user\"].mean()"
   ]
  },
  {
   "cell_type": "code",
   "execution_count": null,
   "id": "225cc903-dd21-4be8-954c-95a9b3051efa",
   "metadata": {},
   "outputs": [],
   "source": [
    "def intro():\n",
    "    \n",
    "    st.title(\"Debt Free Payment Plan\")\n",
    "    st.write(f\"Thank you, {user}, for choosing to consolidate your debt with our payment plan.\")\n",
    "    st.write(f\"Your current total debt is ${sumofdebt}.\")\n",
    "    st.write(\"We currently have an APR on our payment plan of 5%.\")\n",
    "    st.write(\"This will offer you easy to pay monthly payments.\")\n",
    "    st.write(\"We have 4 options for our payment plan, please choose one of our plans listed on the left.\")\n",
    "    st.write(\"Or Return to return to our main menu.\")"
   ]
  },
  {
   "cell_type": "code",
   "execution_count": null,
   "id": "73d7a3f0-54fe-44ea-bbd0-ed7ee2a14f89",
   "metadata": {},
   "outputs": [],
   "source": [
    "def inputs():\n",
    "    \n",
    "    st.sidebar.header(\"Payment Plans\")\n",
    "    button1 = st.sidebar.button(\"6 Months\")\n",
    "    button2 = st.sidebar.button(\"1 Year\")\n",
    "    button3 = st.sidebar.button(\"3 Years\")\n",
    "    button4 = st.sidebar.button(\"5 Years\")\n",
    "    button5 = st.siderbar.button(\"Return\")\n",
    "    \n",
    "    if button1:\n",
    "        time_choice = 6\n",
    "    elif button2:\n",
    "        time_choice = 12\n",
    "    elif button3:\n",
    "        time_choice = 36\n",
    "    elif button4:\n",
    "        time_choice = 60\n",
    "    elif button5:\n",
    "        time_choice = 0\n",
    "              \n",
    "    return time_choice"
   ]
  },
  {
   "cell_type": "code",
   "execution_count": null,
   "id": "26b347a0-28ef-4272-acb4-70f8971da2cc",
   "metadata": {},
   "outputs": [],
   "source": [
    "def main():\n",
    "    \n",
    "    engine = get_debt_free_db_engine()\n",
    "    transaction_2019 = get_transaction_for_user_year(engine, user, '2019')\n",
    "    sumofdebt = transaction_2019[\"amount\"].sum()\n",
    "    \n",
    "    intro()\n",
    "\n",
    "    time = inputs()\n",
    "    \n",
    "    if time == 0:\n",
    "        st.empty\n",
    "        st.write(\"You will be returned to the main menu.\")\n",
    "        \n",
    "                \n",
    "    else:\n",
    "        payment_amount = payment_plan_option(sumofdebt, time)\n",
    "        st.header(f\"Your payment amount would be ${payment_amount} over {time} months.\")"
   ]
  },
  {
   "cell_type": "code",
   "execution_count": null,
   "id": "7ee917e6-9b8a-4c6b-9ff7-7efce76346a4",
   "metadata": {},
   "outputs": [],
   "source": []
  }
 ],
 "metadata": {
  "kernelspec": {
   "display_name": "dev",
   "language": "python",
   "name": "dev"
  },
  "language_info": {
   "codemirror_mode": {
    "name": "ipython",
    "version": 3
   },
   "file_extension": ".py",
   "mimetype": "text/x-python",
   "name": "python",
   "nbconvert_exporter": "python",
   "pygments_lexer": "ipython3",
   "version": "3.9.12"
  }
 },
 "nbformat": 4,
 "nbformat_minor": 5
}
