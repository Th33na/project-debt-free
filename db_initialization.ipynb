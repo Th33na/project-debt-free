{
 "cells": [
  {
   "cell_type": "code",
   "execution_count": 85,
   "id": "2c891de7-f6d6-4981-8f36-0c15bdd88fa4",
   "metadata": {},
   "outputs": [],
   "source": [
    "# Importing the required libraries and dependencies\n",
    "%reload_ext autoreload\n",
    "%autoreload 2\n",
    "\n",
    "from db_storage_utils import load_and_store_mcc, load_and_store_ccinfo"
   ]
  },
  {
   "cell_type": "code",
   "execution_count": 68,
   "id": "0b323119-4ad5-453f-a6a6-f263bbba1d54",
   "metadata": {},
   "outputs": [],
   "source": [
    "def load_all_data():\n",
    "    load_and_store_mcc()\n",
    "    load_and_store_ccinfo()"
   ]
  }
 ],
 "metadata": {
  "kernelspec": {
   "display_name": "dev",
   "language": "python",
   "name": "dev"
  },
  "language_info": {
   "codemirror_mode": {
    "name": "ipython",
    "version": 3
   },
   "file_extension": ".py",
   "mimetype": "text/x-python",
   "name": "python",
   "nbconvert_exporter": "python",
   "pygments_lexer": "ipython3",
   "version": "3.9.12"
  }
 },
 "nbformat": 4,
 "nbformat_minor": 5
}
