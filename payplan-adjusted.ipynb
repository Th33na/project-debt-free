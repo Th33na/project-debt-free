{
 "cells": [
  {
   "cell_type": "code",
   "execution_count": 1,
   "id": "e9d48eb7-56da-4954-8d63-14ce9736441e",
   "metadata": {},
   "outputs": [],
   "source": [
    "# Run the payment plan based off summary_transaction_2020 from step 7, after creation. Change selection to 2019 in Nayana's code.\n",
    "import questionary\n",
    "from db_utils import get_debt_free_db_engine, get_transaction_for_user_year"
   ]
  },
  {
   "cell_type": "code",
   "execution_count": 21,
   "id": "e8566cc5-f41e-445d-b000-44f3b4aff8d4",
   "metadata": {},
   "outputs": [],
   "source": [
    "def payment_plan(user):\n",
    "    # Pulls the data based on the user information.\n",
    "    engine = get_debt_free_db_engine()\n",
    "    transaction_2019 = get_transaction_for_user_year(engine, user, '2019')\n",
    "    \n",
    "    # Calculates the sum of the total debt.\n",
    "    sumofdebt = transaction_2019[\"amount\"].sum()\n",
    "    \n",
    "    # Prints out information to the user along with choice selection.\n",
    "    print(f\"Thank you, {user}, for choosing to consolidate your debt with our payment plan.\")\n",
    "    print(f\"Your current total debt is ${sumofdebt}.\")\n",
    "    print(\"We currently have an APR on our payment plan of 5%.\")\n",
    "    print(\"This will offer you easy to pay monthly payments.\")\n",
    "    print(\"We have 4 options for our payment plan, please choose one of our plans listed below.\")\n",
    "    print(\"Or Quit to return to our main menu.\")\n",
    "    \n",
    "    cli_running = True\n",
    "\n",
    "    # A loop for the running of the payment plan, if they wish to view more than 1 option.\n",
    "    while cli_running:\n",
    "        choice = questionary.select(\"Which option works best for you?\",\n",
    "            choices=[\"6 Months\", \"1 Year\", \"3 Year\", \"5 Year\", \"Quit\"]).ask()\n",
    "\n",
    "        if choice == \"6 Months\":\n",
    "            payment_time = 6\n",
    "            payment_amount = payment_plan_option(sumofdebt, payment_time)\n",
    "            \n",
    "            print(f\"Your payment amount would be ${payment_amount} over {payment_time} months.\")\n",
    "            cli_running = payment_works()\n",
    "                \n",
    "        elif choice == \"1 Year\":\n",
    "            payment_time = 12\n",
    "            payment_amount = payment_plan_option(sumofdebt, payment_time)\n",
    "            \n",
    "            print(f\"Your payment amount would be ${payment_amount} over {payment_time} months.\")\n",
    "            cli_running = payment_works()\n",
    "            \n",
    "        elif choice == \"3 Year\":\n",
    "            payment_time = 36\n",
    "            payment_amount = payment_plan_option(sumofdebt, payment_time)\n",
    "            \n",
    "            print(f\"Your payment amount would be ${payment_amount} over {payment_time} months.\")\n",
    "            cli_running = payment_works()\n",
    "            \n",
    "        elif choice == \"5 Year\":\n",
    "            payment_time = 60\n",
    "            payment_amount = payment_plan_option(sumofdebt, payment_time)\n",
    "            \n",
    "            print(f\"Your payment amount would be ${payment_amount} over {payment_time} months.\")\n",
    "            cli_running = payment_works()\n",
    "        \n",
    "        elif choice == \"Quit\":\n",
    "            cli_running = False\n",
    "            print(\"You will be returned to the main menu.\")\n",
    "    \n",
    "    "
   ]
  },
  {
   "cell_type": "code",
   "execution_count": 17,
   "id": "80d35bd1-10dc-4ca1-b4af-2dcf6f4b8cf8",
   "metadata": {
    "tags": []
   },
   "outputs": [],
   "source": [
    "def payment_plan_option(total, time):\n",
    "    # Reads in the total and the time and applies the APR to calculate the amount they will need to pay to be debt free by chosen time.\n",
    "    APR = 0.05 / 12\n",
    "    \n",
    "    payment = total * ((APR*(pow((1+APR), time)))/(pow((1 + APR), time) - 1))\n",
    "\n",
    "    return payment"
   ]
  },
  {
   "cell_type": "code",
   "execution_count": 20,
   "id": "341d8ab2-49e1-46dd-af42-d00d6185c959",
   "metadata": {
    "tags": []
   },
   "outputs": [],
   "source": [
    "def payment_works():\n",
    "    # Checks if the customer is happy with their plan.\n",
    "    \n",
    "    yes_no = questionary.select(\"Will this payment plan work for you?\", choices=[\"Yes\", \"No\"]).ask()\n",
    "            \n",
    "    if yes_no == \"Yes\":\n",
    "        cli_running = False\n",
    "        print(\"We thank you for choosing our consolidated payment plan.\")\n",
    "        print(\"We appreciate you as a customer.\")\n",
    "              \n",
    "    elif yes_no == \"No\":\n",
    "        print(\"We are sorry this plan doesn't work.\")\n",
    "        print(\"Please choose a different plan or choose to quit.\")\n",
    "        print(\"Or, if you'd like to set your own payment,\")\n",
    "        print(\"   please use our projection plan from our main menu.\")\n",
    "        cli_running = True\n",
    "    \n",
    "    return cli_running"
   ]
  }
 ],
 "metadata": {
  "kernelspec": {
   "display_name": "dev",
   "language": "python",
   "name": "dev"
  },
  "language_info": {
   "codemirror_mode": {
    "name": "ipython",
    "version": 3
   },
   "file_extension": ".py",
   "mimetype": "text/x-python",
   "name": "python",
   "nbconvert_exporter": "python",
   "pygments_lexer": "ipython3",
   "version": "3.9.12"
  }
 },
 "nbformat": 4,
 "nbformat_minor": 5
}
